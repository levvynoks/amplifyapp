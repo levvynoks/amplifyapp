{
  "nbformat": 4,
  "nbformat_minor": 0,
  "metadata": {
    "colab": {
      "name": "image_2_sketch.ipynb",
      "provenance": [],
      "collapsed_sections": [],
      "authorship_tag": "ABX9TyNpTM8a6YxTj84NvoRYV/oW",
      "include_colab_link": true
    },
    "kernelspec": {
      "name": "python3",
      "display_name": "Python 3"
    }
  },
  "cells": [
    {
      "cell_type": "markdown",
      "metadata": {
        "id": "view-in-github",
        "colab_type": "text"
      },
      "source": [
        "<a href=\"https://colab.research.google.com/github/levvynoks/amplifyapp/blob/master/image_2_sketch.ipynb\" target=\"_parent\"><img src=\"https://colab.research.google.com/assets/colab-badge.svg\" alt=\"Open In Colab\"/></a>"
      ]
    },
    {
      "cell_type": "code",
      "metadata": {
        "id": "gWa9xgUpimcV",
        "colab_type": "code",
        "colab": {}
      },
      "source": [
        "import cv2 \n",
        "import sys\n",
        "\n",
        "image =  cv2.imread(r\"C:\\Users\\TODA RABA\\Documents\\CODING\\Tutorials\\SpeechReco\\wav2mp3\\rr.jpg\")\n",
        "grayimage = cv2.cvtColor(image, cv2.COLOR_BGR2GRAY)\n",
        "grayimageinv =  255 - grayimage\n",
        "grayimageinv = cv2.GaussianBlur(grayimageinv, (21,21),0)\n",
        "\n",
        "output =  cv2.divide(grayimage, 255 - grayimageinv , scale = 256.0)\n",
        "cv2.namedWindow(\"image\", cv2.WINDOW_AUTOSIZE)\n",
        "cv2.namedWindow(\"pencilsketch\", cv2.WINDOW_AUTOSIZE)\n",
        "cv2.imshow(\"pencilsketch\", output)\n",
        "cv2.imwrite('rr2.jpg', output)\n",
        "cv2.waitKey(0)\n",
        "cv2.destroyAllWindows()"
      ],
      "execution_count": null,
      "outputs": []
    }
  ]
}