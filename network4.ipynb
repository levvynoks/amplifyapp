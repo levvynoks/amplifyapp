{
  "nbformat": 4,
  "nbformat_minor": 0,
  "metadata": {
    "colab": {
      "name": "network4.ipynb",
      "provenance": [],
      "collapsed_sections": [],
      "authorship_tag": "ABX9TyNZmkYkm75ZuEbEx6RsBOZx",
      "include_colab_link": true
    },
    "kernelspec": {
      "name": "python3",
      "display_name": "Python 3"
    }
  },
  "cells": [
    {
      "cell_type": "markdown",
      "metadata": {
        "id": "view-in-github",
        "colab_type": "text"
      },
      "source": [
        "<a href=\"https://colab.research.google.com/github/levvynoks/amplifyapp/blob/master/network4.ipynb\" target=\"_parent\"><img src=\"https://colab.research.google.com/assets/colab-badge.svg\" alt=\"Open In Colab\"/></a>"
      ]
    },
    {
      "cell_type": "code",
      "metadata": {
        "id": "Ii0vTeHQxm3F",
        "colab_type": "code",
        "colab": {
          "base_uri": "https://localhost:8080/",
          "height": 51
        },
        "outputId": "0fa6e29d-4a4c-46c1-fe4e-f7f3b3237bd4"
      },
      "source": [
        "import socket\n",
        "import os\n",
        "\n",
        "s = socket.socket(socket.AF_INET, socket.SOCK_STREAM)\n",
        "ip_address = [\"216.58.223.142\", \"10.0.0.1\"]\n",
        "for xp in ip_address:\n",
        "    rep = os.system('ping ' + xp)\n",
        "    if rep == 0:\n",
        "        print(xp, \"server is up\")\n",
        "    else:\n",
        "        print(xp, \"server is down\")\n",
        "\n",
        "\n",
        "\n"
      ],
      "execution_count": 1,
      "outputs": [
        {
          "output_type": "stream",
          "text": [
            "216.58.223.142 server is down\n",
            "10.0.0.1 server is down\n"
          ],
          "name": "stdout"
        }
      ]
    },
    {
      "cell_type": "code",
      "metadata": {
        "id": "yC5NujGNyZdm",
        "colab_type": "code",
        "colab": {
          "base_uri": "https://localhost:8080/",
          "height": 68
        },
        "outputId": "5919fb13-03df-47b1-a5dc-5a8c4b9c9959"
      },
      "source": [
        "import socket\n",
        "import os\n",
        "s = socket.socket(socket.AF_INET, socket.SOCK_STREAM)\n",
        "for n in range(142, 145):\n",
        "    router_ip=\"216.58.223.{0}\".format(n)\n",
        "    rep = os.system('ping ' + router_ip)\n",
        "    if rep == 0:\n",
        "        print (\"server is up\" ,router_ip)\n",
        "    else:\n",
        "        print (\"server is down\" ,router_ip)"
      ],
      "execution_count": 2,
      "outputs": [
        {
          "output_type": "stream",
          "text": [
            "server is down 216.58.223.142\n",
            "server is down 216.58.223.143\n",
            "server is down 216.58.223.144\n"
          ],
          "name": "stdout"
        }
      ]
    }
  ]
}